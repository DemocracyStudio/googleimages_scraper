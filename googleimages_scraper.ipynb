{
 "cells": [
  {
   "cell_type": "markdown",
   "metadata": {},
   "source": [
    "## Google Images scraper\n",
    "#### The following Google Images scraper will download about 200 first results of the google images search in the local folder of your choice.\n",
    "\n",
    "Note:\n",
    "- it needs to be run in local with jupyter (I couldn't avoid a chrome-driver error on colab)\n",
    "- refine your google image research before you copy-paste the URL in the scraper by clicking the \"tools\" tab, selecting \"medium\" size, \"Creative common\" license, etc.\n",
    "- fill in the 'animaltype' (two entries) in the last cell to personalize your files' names\n",
    "- you still need to proof check your downloaded images to delete drawings or other undesirables."
   ]
  },
  {
   "cell_type": "code",
   "execution_count": null,
   "metadata": {
    "id": "h3dx6S2k6K6N"
   },
   "outputs": [],
   "source": [
    "# import libraries\n",
    "import os\n",
    "import selenium\n",
    "from selenium import webdriver\n",
    "from selenium.webdriver.chrome.service import Service\n",
    "from webdriver_manager.chrome import ChromeDriverManager\n",
    "import base64\n",
    "import time\n",
    "from random import randint\n",
    "import urllib.request"
   ]
  },
  {
   "cell_type": "code",
   "execution_count": null,
   "metadata": {
    "id": "RTHi_Y5w6K6P",
    "outputId": "85de486c-42c6-4d04-fda2-1010ceb5335e"
   },
   "outputs": [],
   "source": [
    "# setup\n",
    "save_folder = '/pathway/to/local/file/'\n",
    "google_images = 'google_images_research_url'\n",
    "\n",
    "# start the browser\n",
    "driver = webdriver.Chrome(service=Service(ChromeDriverManager().install()))\n",
    "# open google image research url\n",
    "driver.get(google_images)"
   ]
  },
  {
   "cell_type": "code",
   "execution_count": null,
   "metadata": {
    "id": "UvxjeZXc6K6Q"
   },
   "outputs": [],
   "source": [
    "# scroll down automatically if you want to scrape all results (1000+)\n",
    "last_height = driver.execute_script(\"return document.body.scrollHeight\")\n",
    "\n",
    "for i in range(3):\n",
    "    # Scroll down to bottom\n",
    "    driver.execute_script(\"window.scrollTo(0, document.body.scrollHeight);\")\n",
    "    # Wait to load page\n",
    "    time.sleep(randint(1,3))\n",
    "    # Calculate new scroll height and compare with last scroll height\n",
    "    new_height = driver.execute_script(\"return document.body.scrollHeight\")\n",
    "    if new_height == last_height:\n",
    "        break\n",
    "    last_height = new_height\n",
    "\n",
    "print('scroll done')"
   ]
  },
  {
   "cell_type": "code",
   "execution_count": null,
   "metadata": {
    "id": "6qgzBIPv6K6R",
    "outputId": "9bed7aae-b05a-49e6-a4fa-855cd6d60f8b"
   },
   "outputs": [],
   "source": [
    "counter = 0\n",
    "image_elements = driver.find_elements_by_class_name('rg_i')\n",
    "print(len(image_elements))\n",
    "    \n",
    "for image in image_elements:\n",
    "    if (image.get_attribute('src') is not None):\n",
    "        my_image = image.get_attribute('src').split('data:image/jpeg;base64,')\n",
    "        filename = save_folder + 'animaltype'+str(counter)+'.jpeg'\n",
    "        if(len(my_image) >1):\n",
    "            with open(filename, 'wb') as f: \n",
    "                f.write(base64.b64decode(my_image[1]))\n",
    "        else:\n",
    "            print(image.get_attribute('src'))\n",
    "            urllib.request.urlretrieve(image.get_attribute('src'), save_folder + 'animaltype'+ str(counter)+'.jpeg')\n",
    "        counter += 1"
   ]
  },
  {
   "cell_type": "code",
   "execution_count": null,
   "metadata": {
    "id": "3pA_MTQ06K6S"
   },
   "outputs": [],
   "source": [
    "#quit driver\n",
    "driver.quit()"
   ]
  },
  {
   "cell_type": "code",
   "execution_count": null,
   "metadata": {
    "id": "EEH1G2TD6K6S"
   },
   "outputs": [],
   "source": []
  }
 ],
 "metadata": {
  "colab": {
   "name": "googleimages_scraper.ipynb",
   "provenance": []
  },
  "kernelspec": {
   "display_name": "Python 3",
   "language": "python",
   "name": "python3"
  },
  "language_info": {
   "codemirror_mode": {
    "name": "ipython",
    "version": 3
   },
   "file_extension": ".py",
   "mimetype": "text/x-python",
   "name": "python",
   "nbconvert_exporter": "python",
   "pygments_lexer": "ipython3",
   "version": "3.7.6"
  }
 },
 "nbformat": 4,
 "nbformat_minor": 1
}
